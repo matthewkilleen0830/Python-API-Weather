{
 "cells": [
  {
   "cell_type": "markdown",
   "metadata": {},
   "source": [
    "# VacationPy"
   ]
  },
  {
   "cell_type": "code",
   "execution_count": null,
   "metadata": {},
   "outputs": [],
   "source": [
    "# Dependencies and Setup\n",
    "import matplotlib.pyplot as plt\n",
    "import pandas as pd\n",
    "import numpy as np\n",
    "import requests\n",
    "import gmaps\n",
    "import os\n",
    "\n",
    "# Import API key\n",
    "from api_keys import g_key"
   ]
  },
  {
   "cell_type": "markdown",
   "metadata": {},
   "source": [
    "# Store Part I results into DataFrame"
   ]
  },
  {
   "cell_type": "code",
   "execution_count": null,
   "metadata": {},
   "outputs": [],
   "source": [
    "# Load the CSV exported in Part I to a DataFrame\n",
    "weather_csv = \"../output_data/Weather.csv\"\n",
    "city_weather_df = pd.DataFrame(pd.read_csv(weather_csv))\n",
    "city_weather_df.head()"
   ]
  },
  {
   "cell_type": "markdown",
   "metadata": {},
   "source": [
    "# Humidity Heatmap\n",
    "* Configure gmaps.\n",
    "* Use the Lat and Lng as locations and Humidity as the weight.\n",
    "* Add Heatmap layer to map."
   ]
  },
  {
   "cell_type": "code",
   "execution_count": null,
   "metadata": {},
   "outputs": [],
   "source": [
    "# Access maps with unique API key\n",
    "gmaps.configure(api_key = g_key)"
   ]
  },
  {
   "cell_type": "code",
   "execution_count": null,
   "metadata": {},
   "outputs": [],
   "source": [
    "# Store latitude and longitude in locations\n",
    "locations = city_weather_df[[\"Lat\", \"Lng\"]]\n",
    "\n",
    "# Fill NaN values and convert to float\n",
    "humidity = city_weather_df[\"Humidity\"].astype(float)\n",
    "\n",
    "# Plot Heatmap\n",
    "fig = gmaps.figure(zoom_level = 1.95, center = (20, 5))\n",
    "\n",
    "# Set max intensity to highest humidity found in the dataset\n",
    "max_intensity = city_weather_df[\"Humidity\"].max()\n",
    "\n",
    "# Create heat layer\n",
    "heat_layer = gmaps.heatmap_layer(locations, weights = humidity, \n",
    "                                 dissipating = False, max_intensity = max_intensity,\n",
    "                                 point_radius = 3)\n",
    "\n",
    "# Add layer\n",
    "fig.add_layer(heat_layer)\n",
    "\n",
    "# Display figure\n",
    "fig"
   ]
  },
  {
   "cell_type": "markdown",
   "metadata": {},
   "source": [
    "# Create new DataFrame fitting weather criteria\n",
    "* Narrow down the cities to fit weather conditions.\n",
    "* Drop any rows will null values."
   ]
  },
  {
   "cell_type": "code",
   "execution_count": null,
   "metadata": {},
   "outputs": [],
   "source": [
    "# Narrow down the DataFrame to find your ideal weather condition\n",
    "ideal_conditions_df = city_weather_df.loc[(city_weather_df[\"Max Temp\"] < 80) &\n",
    "                                          (city_weather_df[\"Max Temp\"] > 70) &\n",
    "                                          (city_weather_df[\"Wind Speed\"] < 10) &\n",
    "                                          (city_weather_df[\"Cloudiness\"] == 0), :]\n",
    "\n",
    "# Drop any rows with null values\n",
    "ideal_conditions_df.dropna()\n",
    "\n",
    "# Reset DataFrame index in place\n",
    "ideal_conditions_df.reset_index(drop = True, inplace = True)\n",
    "\n",
    "ideal_conditions_df"
   ]
  },
  {
   "cell_type": "markdown",
   "metadata": {},
   "source": [
    "# Hotel Map\n",
    "* Store into variable named `hotel_df`.\n",
    "* Add a \"Hotel Name\" column to the DataFrame.\n",
    "* Set parameters to search for hotels with 5000 meters.\n",
    "* Hit the Google Places API for each city's coordinates.\n",
    "* Store the first Hotel result into the DataFrame.\n",
    "* Plot markers on top of the heatmap."
   ]
  },
  {
   "cell_type": "code",
   "execution_count": null,
   "metadata": {},
   "outputs": [],
   "source": [
    "# Store existing DataFrame into variable named hotel_df using .copy()\n",
    "hotel_df = ideal_conditions_df[[\"City\",\"Lat\",\"Lng\",\"Max Temp\",\"Humidity\",\"Cloudiness\",\n",
    "                                \"Wind Speed\",\"Country\",\"Date\"]].copy()\n",
    "hotel_df.head()"
   ]
  },
  {
   "cell_type": "code",
   "execution_count": null,
   "metadata": {},
   "outputs": [],
   "source": [
    "# Set up additional column to hold information\n",
    "hotel_df[\"Hotel Name\"] = \"\"\n",
    "\n",
    "hotel_df.head()"
   ]
  },
  {
   "cell_type": "code",
   "execution_count": null,
   "metadata": {},
   "outputs": [],
   "source": [
    "# Set parameters to search for hotels within 5,000 meters\n",
    "search_keyword = \"hotel\"\n",
    "search_radius = 5000\n",
    "\n",
    "base_url = \"https://maps.googleapis.com/maps/api/place/nearbysearch/json\"\n",
    "params = {\"keyword\": search_keyword,\n",
    "          \"radius\": search_radius,\n",
    "          \"key\": g_key}"
   ]
  },
  {
   "cell_type": "code",
   "execution_count": null,
   "metadata": {},
   "outputs": [],
   "source": [
    "# Make a request for each of the cities\n",
    "for index, row in hotel_df[0:10].iterrows():\n",
    "\n",
    "    # Get coordinates from df\n",
    "    latitude = row[\"Lat\"]\n",
    "    longitude = row[\"Lng\"]\n",
    "\n",
    "    # Add coordinates to params dict\n",
    "    params[\"location\"] = f\"{latitude},{longitude}\"\n",
    "\n",
    "    # Assemble url and make API request\n",
    "    response = requests.get(base_url, params = params).json()\n",
    "    results = response[\"results\"]\n",
    "    \n",
    "    try:\n",
    "        # Store the first hotel result into the DataFrame\n",
    "        hotel_df.loc[index, \"Hotel Name\"] = results[0][\"name\"]\n",
    "\n",
    "        # Print to display\n",
    "        print(f\"{row['City']}:  closest hotel is {results[0]['name']}.\")\n",
    "    \n",
    "    except:\n",
    "        print(f\"{row['City']}:  missing field result, skipping...\")\n",
    "    \n",
    "print(\"-------------------------------------------------------\")\n",
    "\n",
    "# Create new DataFrame with only 10 results\n",
    "ten_hotels_df = hotel_df[0:10].copy()\n",
    "ten_hotels_df"
   ]
  },
  {
   "cell_type": "code",
   "execution_count": null,
   "metadata": {},
   "outputs": [],
   "source": [
    "# Drop any rows with null values\n",
    "ten_hotels_df.dropna(axis = 0, how = \"any\", inplace = True)\n",
    "\n",
    "# Display updated DataFrame\n",
    "ten_hotels_df.head()"
   ]
  },
  {
   "cell_type": "code",
   "execution_count": null,
   "metadata": {},
   "outputs": [],
   "source": [
    "ten_hotels_df.isnull().sum()"
   ]
  },
  {
   "cell_type": "code",
   "execution_count": null,
   "metadata": {},
   "outputs": [],
   "source": [
    "# NOTE: Do not change any of the code in this cell\n",
    "\n",
    "# Using the template add the hotel marks to the heatmap\n",
    "info_box_template = \"\"\"\n",
    "<dl>\n",
    "<dt>Name</dt><dd>{Hotel Name}</dd>\n",
    "<dt>City</dt><dd>{City}</dd>\n",
    "<dt>Country</dt><dd>{Country}</dd>\n",
    "</dl>\n",
    "\"\"\"\n",
    "# Store the DataFrame Row\n",
    "# NOTE: be sure to update with your DataFrame name\n",
    "hotel_info = [info_box_template.format(**row) for index, row in ten_hotels_df.iterrows()]\n",
    "plot_locations = ten_hotels_df[[\"Lat\", \"Lng\"]]"
   ]
  },
  {
   "cell_type": "code",
   "execution_count": null,
   "metadata": {},
   "outputs": [],
   "source": [
    "# Add marker layer on top of heat map\n",
    "plot_markers = gmaps.marker_layer(plot_locations, info_box_content = hotel_info)\n",
    "\n",
    "# Plot Heatmap\n",
    "fig2 = gmaps.figure(zoom_level = 1.95, center = (20, 5))\n",
    "\n",
    "# Set max intensity to highest humidity found in the dataset\n",
    "max_intensity = city_weather_df[\"Humidity\"].max()\n",
    "\n",
    "# Create heat layer\n",
    "heat_layer = gmaps.heatmap_layer(locations, weights = humidity, \n",
    "                                 dissipating = False, max_intensity = max_intensity,\n",
    "                                 point_radius = 3)\n",
    "\n",
    "# Add layers\n",
    "fig2.add_layer(heat_layer)\n",
    "fig2.add_layer(plot_markers)\n",
    "\n",
    "# Display figure\n",
    "fig2"
   ]
  },
  {
   "cell_type": "code",
   "execution_count": null,
   "metadata": {},
   "outputs": [],
   "source": []
  }
 ],
 "metadata": {
  "kernelspec": {
   "display_name": "Python 3",
   "language": "python",
   "name": "python3"
  },
  "language_info": {
   "codemirror_mode": {
    "name": "ipython",
    "version": 3
   },
   "file_extension": ".py",
   "mimetype": "text/x-python",
   "name": "python",
   "nbconvert_exporter": "python",
   "pygments_lexer": "ipython3",
   "version": "3.6.10"
  },
  "latex_envs": {
   "LaTeX_envs_menu_present": true,
   "autoclose": false,
   "autocomplete": true,
   "bibliofile": "biblio.bib",
   "cite_by": "apalike",
   "current_citInitial": 1,
   "eqLabelWithNumbers": true,
   "eqNumInitial": 1,
   "hotkeys": {
    "equation": "Ctrl-E",
    "itemize": "Ctrl-I"
   },
   "labels_anchors": false,
   "latex_user_defs": false,
   "report_style_numbering": false,
   "user_envs_cfg": false
  }
 },
 "nbformat": 4,
 "nbformat_minor": 4
}
