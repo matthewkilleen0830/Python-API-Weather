{
 "cells": [
  {
   "cell_type": "markdown",
   "metadata": {},
   "source": [
    "# WeatherPy\n",
    "----\n",
    "\n",
    "#### Note\n",
    "* Instructions have been included for each segment. You do not have to follow them exactly, but they are included to help you think through the steps."
   ]
  },
  {
   "cell_type": "code",
   "execution_count": null,
   "metadata": {
    "scrolled": true
   },
   "outputs": [],
   "source": [
    "# Dependencies and Setup\n",
    "import matplotlib.pyplot as plt\n",
    "import pandas as pd\n",
    "import numpy as np\n",
    "import requests\n",
    "import time\n",
    "import scipy.stats as st\n",
    "from scipy.stats import linregress\n",
    "\n",
    "# Import API key\n",
    "from api_keys import weather_api_key\n",
    "\n",
    "# Incorporated citipy to determine city based on latitude and longitude\n",
    "from citipy import citipy\n",
    "\n",
    "# Output File (CSV)\n",
    "output_data_file = \"../output_data/cities.csv\"\n",
    "\n",
    "# Range of latitudes and longitudes\n",
    "lat_range = (-90, 90)\n",
    "lng_range = (-180, 180)"
   ]
  },
  {
   "cell_type": "markdown",
   "metadata": {},
   "source": [
    "## Generate Cities List"
   ]
  },
  {
   "cell_type": "code",
   "execution_count": null,
   "metadata": {},
   "outputs": [],
   "source": [
    "# List for holding lat_lngs and cities\n",
    "lat_lngs = []\n",
    "cities = []\n",
    "\n",
    "# Create a set of random lat and lng combinations\n",
    "lats = np.random.uniform(lat_range[0], lat_range[1], size=1500)\n",
    "lngs = np.random.uniform(lng_range[0], lng_range[1], size=1500)\n",
    "lat_lngs = zip(lats, lngs)\n",
    "\n",
    "# Identify nearest city for each lat, lng combination\n",
    "for lat_lng in lat_lngs:\n",
    "    city = citipy.nearest_city(lat_lng[0], lat_lng[1]).city_name\n",
    "    \n",
    "    # If the city is unique, then add it to a our cities list\n",
    "    if city not in cities:\n",
    "        cities.append(city)\n",
    "\n",
    "# Print the city count to confirm sufficient count\n",
    "len(cities)"
   ]
  },
  {
   "cell_type": "markdown",
   "metadata": {},
   "source": [
    "### Perform API Calls\n",
    "* Perform a weather check on each city using a series of successive API calls.\n",
    "* Include a print log of each city as it's being processed (with the city number and city name).\n"
   ]
  },
  {
   "cell_type": "code",
   "execution_count": null,
   "metadata": {},
   "outputs": [],
   "source": [
    "# Save config information\n",
    "base_url = \"http://api.openweathermap.org/data/2.5/weather?\"\n",
    "city = \"edina,minnesota\"\n",
    "query_url = base_url + \"appid=\" + weather_api_key + \"&q=\" + city\n",
    "\n",
    "# Get weather data for one city, convert to JSON, and display to see keys\n",
    "weather_response = requests.get(query_url)\n",
    "weather_json = weather_response.json()\n",
    "print(f\"The weather API responded with:  {weather_json}.\")"
   ]
  },
  {
   "cell_type": "code",
   "execution_count": null,
   "metadata": {},
   "outputs": [],
   "source": [
    "# Save config information\n",
    "base_url = \"http://api.openweathermap.org/data/2.5/weather?\"\n",
    "units = \"imperial\"\n",
    "\n",
    "# Build partial query URL\n",
    "query_url = f\"{base_url}appid={weather_api_key}&units={units}&q=\"\n",
    "\n",
    "# Set up lists to hold response info\n",
    "city_name = []\n",
    "city_latitude = []\n",
    "city_longitude = []\n",
    "city_max_temp = []\n",
    "city_humidity = []\n",
    "city_cloudiness = []\n",
    "city_wind_speed = []\n",
    "city_country = []\n",
    "city_date = []"
   ]
  },
  {
   "cell_type": "code",
   "execution_count": null,
   "metadata": {
    "scrolled": true
   },
   "outputs": [],
   "source": [
    "# Print header\n",
    "print(\"Beginning Data Retrieval\")\n",
    "print(\"-----------------------------\")\n",
    "\n",
    "# Declare variables to count records and sets, and pass into for loop\n",
    "record = 0\n",
    "record_set = 1\n",
    "\n",
    "# Make a request for each of the cities\n",
    "for row in cities:\n",
    "    response = requests.get(query_url + row).json()\n",
    "    \n",
    "    # Try to grab the data if they are available in the OpenWeather API\n",
    "    try:\n",
    "        city_name.append(response[\"name\"])\n",
    "        city_latitude.append(response[\"coord\"][\"lat\"])\n",
    "        city_longitude.append(response[\"coord\"][\"lon\"])\n",
    "        city_max_temp.append(response[\"main\"][\"temp_max\"])\n",
    "        city_humidity.append(response[\"main\"][\"humidity\"])\n",
    "        city_cloudiness.append(response[\"clouds\"][\"all\"])\n",
    "        city_wind_speed.append(response[\"wind\"][\"speed\"])\n",
    "        city_country.append(response[\"sys\"][\"country\"])\n",
    "        city_date.append(response[\"dt\"])\n",
    "               \n",
    "        record += 1\n",
    "        \n",
    "        # Delay subsequent API request by one second to stay under calls-per-minute limit\n",
    "        time.sleep(1)\n",
    "        \n",
    "        # Conditional statement to group cities into sets of 50\n",
    "        if record > 50:\n",
    "            record_set += 1\n",
    "            record = 1        \n",
    "        \n",
    "        print(f\"Processing Record {record} of Set {record_set} | {row}\")\n",
    "        \n",
    "    # Handle exceptions for cities that are not available in the OpenWeather API\n",
    "    except:\n",
    "        print(f\"City not found.  Skipping...\")\n",
    "        \n",
    "print(f\"-----------------------------\")\n",
    "print(f\"Data Retrieval Complete\")      \n",
    "print(f\"-----------------------------\")"
   ]
  },
  {
   "cell_type": "markdown",
   "metadata": {},
   "source": [
    "### Convert Raw Data to DataFrame\n",
    "* Export the city data into a .csv.\n",
    "* Display the DataFrame"
   ]
  },
  {
   "cell_type": "code",
   "execution_count": null,
   "metadata": {},
   "outputs": [],
   "source": [
    "# Convert raw data to DataFrame\n",
    "weather_df = pd.DataFrame({\"City\":city_name,\n",
    "                           \"Lat\":city_latitude,\n",
    "                           \"Lng\":city_longitude,\n",
    "                           \"Max Temp\":city_max_temp,\n",
    "                           \"Humidity\":city_humidity,\n",
    "                           \"Cloudiness\":city_cloudiness,\n",
    "                           \"Wind Speed\":city_wind_speed,\n",
    "                           \"Country\":city_country,\n",
    "                           \"Date\":city_date})\n",
    "weather_df"
   ]
  },
  {
   "cell_type": "code",
   "execution_count": null,
   "metadata": {},
   "outputs": [],
   "source": [
    "# Export file as a CSV, without the Pandas index, but with the header\n",
    "weather_df.to_csv(\"../output_data/Weather.csv\", index = False, header = True)"
   ]
  },
  {
   "cell_type": "markdown",
   "metadata": {},
   "source": [
    "## Inspect the data and remove the cities where the humidity > 100%.\n",
    "----\n",
    "Skip this step if there are no cities that have humidity > 100%. "
   ]
  },
  {
   "cell_type": "code",
   "execution_count": null,
   "metadata": {},
   "outputs": [],
   "source": [
    "# Inspect the data for humidity values >100%\n",
    "weather_df[\"Cloudiness\"].max()"
   ]
  },
  {
   "cell_type": "code",
   "execution_count": null,
   "metadata": {},
   "outputs": [],
   "source": [
    "# Get the indices of cities that have humidity over 100%.\n",
    "# N/A"
   ]
  },
  {
   "cell_type": "code",
   "execution_count": null,
   "metadata": {},
   "outputs": [],
   "source": [
    "# Make a new DataFrame equal to the city data to drop all humidity outliers by index.\n",
    "# Passing \"inplace=False\" will make a copy of the city_data DataFrame, which we call \"clean_city_data\".\n",
    "# clean_city_data = "
   ]
  },
  {
   "cell_type": "markdown",
   "metadata": {},
   "source": [
    "## Plotting the Data\n",
    "* Use proper labeling of the plots using plot titles (including date of analysis) and axes labels.\n",
    "* Save the plotted figures as .pngs."
   ]
  },
  {
   "cell_type": "markdown",
   "metadata": {},
   "source": [
    "## Latitude vs. Temperature Plot"
   ]
  },
  {
   "cell_type": "code",
   "execution_count": null,
   "metadata": {
    "scrolled": true
   },
   "outputs": [],
   "source": [
    "# Retrieve latitude and max temperature data\n",
    "latitude = weather_df[\"Lat\"]\n",
    "maxtemp = weather_df[\"Max Temp\"]\n",
    "\n",
    "# Define scatter plot size\n",
    "plt.figure(figsize = (18,10))\n",
    "\n",
    "# Plot x and y values on scatter plot\n",
    "plt.scatter(latitude, maxtemp)\n",
    "\n",
    "# Define scatter plot title, x and y labels (and their font sizes)\n",
    "plt.title(\"City Latitude vs. Maximum Temperature\", fontsize = 18)\n",
    "plt.xlabel(\"Latitude\", fontsize = 14)\n",
    "plt.ylabel(\"Max Temperature (F)\", fontsize = 14)\n",
    "# plt.xlim(0, max(timepoints))\n",
    "# plt.ylim(34, max(volumes) * 1.01)\n",
    "\n",
    "# Print scatter plot to image file\n",
    "plt.savefig(\"../Images/Latitude_vs_Temperature_Plot.png\")\n",
    "\n",
    "plt.show()"
   ]
  },
  {
   "cell_type": "markdown",
   "metadata": {},
   "source": [
    "## Latitude vs. Humidity Plot"
   ]
  },
  {
   "cell_type": "code",
   "execution_count": null,
   "metadata": {},
   "outputs": [],
   "source": [
    "# Retrieve latitude and humidity data\n",
    "latitude = weather_df[\"Lat\"]\n",
    "humidity = weather_df[\"Humidity\"]\n",
    "\n",
    "# Define scatter plot size\n",
    "plt.figure(figsize = (18,10))\n",
    "\n",
    "# Plot x and y values on scatter plot\n",
    "plt.scatter(latitude, humidity)\n",
    "\n",
    "# Define scatter plot title, x and y labels (and their font sizes)\n",
    "plt.title(\"City Latitude vs. Relative Humidity\", fontsize = 18)\n",
    "plt.xlabel(\"Latitude\", fontsize = 14)\n",
    "plt.ylabel(\"Relative Humidity (%)\", fontsize = 14)\n",
    "# plt.xlim(0, max(timepoints))\n",
    "# plt.ylim(34, max(volumes) * 1.01)\n",
    "\n",
    "# Print scatter plot to image file\n",
    "plt.savefig(\"../Images/Latitude_vs_Humidity_Plot.png\")\n",
    "\n",
    "plt.show()"
   ]
  },
  {
   "cell_type": "markdown",
   "metadata": {},
   "source": [
    "## Latitude vs. Cloudiness Plot"
   ]
  },
  {
   "cell_type": "code",
   "execution_count": null,
   "metadata": {},
   "outputs": [],
   "source": [
    "# Retrieve latitude and cloudiness data\n",
    "latitude = weather_df[\"Lat\"]\n",
    "cloudiness = weather_df[\"Cloudiness\"]\n",
    "\n",
    "# Define scatter plot size\n",
    "plt.figure(figsize = (18,10))\n",
    "\n",
    "# Plot x and y values on scatter plot\n",
    "plt.scatter(latitude, cloudiness)\n",
    "\n",
    "# Define scatter plot title, x and y labels (and their font sizes)\n",
    "plt.title(\"City Latitude vs. Cloudiness\", fontsize = 18)\n",
    "plt.xlabel(\"Latitude\", fontsize = 14)\n",
    "plt.ylabel(\"Cloudiness (%)\", fontsize = 14)\n",
    "# plt.xlim(0, max(timepoints))\n",
    "# plt.ylim(34, max(volumes) * 1.01)\n",
    "\n",
    "# Print scatter plot to image file\n",
    "plt.savefig(\"../Images/Latitude_vs_Cloudiness_Plot.png\")\n",
    "\n",
    "plt.show()"
   ]
  },
  {
   "cell_type": "markdown",
   "metadata": {},
   "source": [
    "## Latitude vs. Wind Speed Plot"
   ]
  },
  {
   "cell_type": "code",
   "execution_count": null,
   "metadata": {},
   "outputs": [],
   "source": [
    "# Retrieve latitude and wind speed data\n",
    "latitude = weather_df[\"Lat\"]\n",
    "wind_speed = weather_df[\"Wind Speed\"]\n",
    "\n",
    "# Define scatter plot size\n",
    "plt.figure(figsize = (18,10))\n",
    "\n",
    "# Plot x and y values on scatter plot\n",
    "plt.scatter(latitude, wind_speed)\n",
    "\n",
    "# Define scatter plot title, x and y labels (and their font sizes)\n",
    "plt.title(\"City Latitude vs. Wind Speed\", fontsize = 18)\n",
    "plt.xlabel(\"Latitude\", fontsize = 14)\n",
    "plt.ylabel(\"Wind Speed (mph)\", fontsize = 14)\n",
    "# plt.xlim(0, max(timepoints))\n",
    "# plt.ylim(34, max(volumes) * 1.01)\n",
    "\n",
    "# Print scatter plot to image file\n",
    "plt.savefig(\"../Images/Latitude_vs_Windspeed_Plot.png\")\n",
    "\n",
    "plt.show()"
   ]
  },
  {
   "cell_type": "markdown",
   "metadata": {},
   "source": [
    "## Linear Regression"
   ]
  },
  {
   "cell_type": "markdown",
   "metadata": {},
   "source": [
    "####  Northern Hemisphere - Max Temp vs. Latitude Linear Regression"
   ]
  },
  {
   "cell_type": "code",
   "execution_count": null,
   "metadata": {},
   "outputs": [],
   "source": [
    "# Filter all by northern hemisphere latitudes\n",
    "northern_latitudes = weather_df.loc[(weather_df[\"Lat\"] > 0)]\n",
    "\n",
    "# Retrieve latitude and max temperature data\n",
    "north_latitude = northern_latitudes[\"Lat\"]\n",
    "north_temp = northern_latitudes[\"Max Temp\"]\n",
    "\n",
    "# Perform a linear regression on latitudes versus max temperatures\n",
    "tl_slope, tl_int, tl_r, tl_p, tl_std_err = st.linregress(north_latitude, north_temp)\n",
    "\n",
    "# Create equation of line to calculate predicted max temperatures\n",
    "tl_fit = tl_slope * north_latitude + tl_int\n",
    "\n",
    "# Create equation in string formats to print on scatter plot\n",
    "nl_equation = \"y = \" + str(round(tl_slope, 2)) + \"x + \" + str(round(tl_int, 2))\n",
    "\n",
    "# Define scatter plot size\n",
    "plt.figure(figsize = (18,10))\n",
    "\n",
    "# Plot x and y values on scatter plot\n",
    "plt.scatter(north_latitude, north_temp)\n",
    "\n",
    "# Plot linear regression line on scatter plot\n",
    "plt.plot(north_latitude, tl_fit, \"--\", color = \"red\")\n",
    "\n",
    "# Define linear regression line and print on scatter plot\n",
    "plt.annotate(nl_equation, (0, 40), fontsize = 14, color = \"red\")\n",
    "\n",
    "# Define scatter plot title, and x and y labels (and their font sizes)\n",
    "plt.title(\"Northern Hemisphere:  Max Temp vs. Latitude (with linear regression model)\", fontsize = 18)\n",
    "plt.xlabel(\"Latitude\", fontsize = 14)\n",
    "plt.ylabel(\"Max Temperature (F)\", fontsize = 14)\n",
    "print(f\"The r-value is: {tl_r}\")\n",
    "\n",
    "# Print scatter plot to image file\n",
    "plt.savefig(\"../Images/Northern_Hemisphere_Latitude_vs_MaxTemp_Plot.png\")\n",
    "\n",
    "plt.show()"
   ]
  },
  {
   "cell_type": "markdown",
   "metadata": {},
   "source": [
    "####  Southern Hemisphere - Max Temp vs. Latitude Linear Regression"
   ]
  },
  {
   "cell_type": "code",
   "execution_count": null,
   "metadata": {},
   "outputs": [],
   "source": [
    "# Filter all by southern hemisphere latitudes\n",
    "southern_latitudes = weather_df.loc[(weather_df[\"Lat\"] < 0)]\n",
    "\n",
    "# Retrieve latitude and max temperature data\n",
    "south_latitude = southern_latitudes[\"Lat\"]\n",
    "south_temp = southern_latitudes[\"Max Temp\"]\n",
    "\n",
    "# Perform a linear regression on latitudes versus max temperatures\n",
    "sl_slope, sl_int, sl_r, sl_p, sl_std_err = st.linregress(south_latitude, south_temp)\n",
    "\n",
    "# Create equation of line to calculate predicted max temperatures\n",
    "sl_fit = sl_slope * south_latitude + sl_int\n",
    "\n",
    "# Create equation in string formats to print on scatter plot\n",
    "sl_equation = \"y = \" + str(round(sl_slope, 2)) + \"x + \" + str(round(sl_int, 2))\n",
    "\n",
    "# Define scatter plot size\n",
    "plt.figure(figsize = (18,10))\n",
    "\n",
    "# Plot x and y values on scatter plot\n",
    "plt.scatter(south_latitude, south_temp)\n",
    "\n",
    "# Plot linear regression line on scatter plot\n",
    "plt.plot(south_latitude, sl_fit, \"--\", color = \"red\")\n",
    "\n",
    "# Define linear regression line and print on scatter plot\n",
    "plt.annotate(sl_equation, (-55, 80), fontsize = 14, color = \"red\")\n",
    "\n",
    "# Define scatter plot title, and x and y labels (and their font sizes)\n",
    "plt.title(\"Southern Hemisphere:  Max Temp vs. Latitude (with linear regression model)\", fontsize = 18)\n",
    "plt.xlabel(\"Latitude\", fontsize = 14)\n",
    "plt.ylabel(\"Max Temperature (F)\", fontsize = 14)\n",
    "print(f\"The r-value is: {sl_r}\")\n",
    "\n",
    "# Print scatter plot to image file\n",
    "plt.savefig(\"../Images/Southern_Hemisphere_Latitude_vs_MaxTemp_Plot.png\")\n",
    "\n",
    "plt.show()"
   ]
  },
  {
   "cell_type": "markdown",
   "metadata": {},
   "source": [
    "####  Northern Hemisphere - Humidity (%) vs. Latitude Linear Regression"
   ]
  },
  {
   "cell_type": "code",
   "execution_count": null,
   "metadata": {},
   "outputs": [],
   "source": [
    "# Retrieve latitude and humidity data\n",
    "north_latitude = northern_latitudes[\"Lat\"]\n",
    "north_humidity = northern_latitudes[\"Humidity\"]\n",
    "\n",
    "# Perform a linear regression on latitudes versus humidity\n",
    "tl_slope, tl_int, tl_r, tl_p, tl_std_err = st.linregress(north_latitude, north_humidity)\n",
    "\n",
    "# Create equation of line to calculate predicted humidity\n",
    "tl_fit = tl_slope * north_latitude + tl_int\n",
    "\n",
    "# Create equation in string formats to print on scatter plot\n",
    "nl_equation = \"y = \" + str(round(tl_slope, 2)) + \"x + \" + str(round(tl_int, 2))\n",
    "\n",
    "# Define scatter plot size\n",
    "plt.figure(figsize = (18,10))\n",
    "\n",
    "# Plot x and y values on scatter plot\n",
    "plt.scatter(north_latitude, north_humidity)\n",
    "\n",
    "# Plot linear regression line on scatter plot\n",
    "plt.plot(north_latitude, tl_fit, \"--\", color = \"red\")\n",
    "\n",
    "# Define linear regression line and print on scatter plot\n",
    "plt.annotate(nl_equation, (0, 40), fontsize = 14, color = \"red\")\n",
    "\n",
    "# Define scatter plot title, and x and y labels (and their font sizes)\n",
    "plt.title(\"Northern Hemisphere:  Relative Humidity vs. Latitude (with linear regression model)\", fontsize = 18)\n",
    "plt.xlabel(\"Latitude\", fontsize = 14)\n",
    "plt.ylabel(\"Relative Humidity (%)\", fontsize = 14)\n",
    "print(f\"The r-value is: {tl_r}\")\n",
    "\n",
    "# Print scatter plot to image file\n",
    "plt.savefig(\"../Images/Northern_Hemisphere_Latitude_vs_Humidity_Plot.png\")\n",
    "\n",
    "plt.show()"
   ]
  },
  {
   "cell_type": "markdown",
   "metadata": {},
   "source": [
    "####  Southern Hemisphere - Humidity (%) vs. Latitude Linear Regression"
   ]
  },
  {
   "cell_type": "code",
   "execution_count": null,
   "metadata": {},
   "outputs": [],
   "source": [
    "# Retrieve latitude and humidity data\n",
    "south_latitude = southern_latitudes[\"Lat\"]\n",
    "south_humidity = southern_latitudes[\"Humidity\"]\n",
    "\n",
    "# Perform a linear regression on latitudes versus humidity\n",
    "sl_slope, sl_int, sl_r, sl_p, sl_std_err = st.linregress(south_latitude, south_humidity)\n",
    "\n",
    "# Create equation of line to calculate predicted humidity\n",
    "sl_fit = sl_slope * south_latitude + sl_int\n",
    "\n",
    "# Create equation in string formats to print on scatter plot\n",
    "sl_equation = \"y = \" + str(round(sl_slope, 2)) + \"x + \" + str(round(sl_int, 2))\n",
    "\n",
    "# Define scatter plot size\n",
    "plt.figure(figsize = (18,10))\n",
    "\n",
    "# Plot x and y values on scatter plot\n",
    "plt.scatter(south_latitude, south_humidity)\n",
    "\n",
    "# Plot linear regression line on scatter plot\n",
    "plt.plot(south_latitude, sl_fit, \"--\", color = \"red\")\n",
    "\n",
    "# Define linear regression line and print on scatter plot\n",
    "plt.annotate(sl_equation, (-55, 40), fontsize = 14, color = \"red\")\n",
    "\n",
    "# Define scatter plot title, and x and y labels (and their font sizes)\n",
    "plt.title(\"Southern Hemisphere:  Relative Humidity vs. Latitude (with linear regression model)\", fontsize = 18)\n",
    "plt.xlabel(\"Latitude\", fontsize = 14)\n",
    "plt.ylabel(\"Relative Humidity (%)\", fontsize = 14)\n",
    "print(f\"The r-value is: {sl_r}\")\n",
    "\n",
    "# Print scatter plot to image file\n",
    "plt.savefig(\"../Images/Southern_Hemisphere_Latitude_vs_Humidity_Plot.png\")\n",
    "\n",
    "plt.show()"
   ]
  },
  {
   "cell_type": "markdown",
   "metadata": {},
   "source": [
    "####  Northern Hemisphere - Cloudiness (%) vs. Latitude Linear Regression"
   ]
  },
  {
   "cell_type": "code",
   "execution_count": null,
   "metadata": {},
   "outputs": [],
   "source": [
    "# Retrieve latitude and cloudiness data\n",
    "north_latitude = northern_latitudes[\"Lat\"]\n",
    "north_cloudiness = northern_latitudes[\"Cloudiness\"]\n",
    "\n",
    "# Perform a linear regression on latitudes versus cloudiness\n",
    "tl_slope, tl_int, tl_r, tl_p, tl_std_err = st.linregress(north_latitude, north_cloudiness)\n",
    "\n",
    "# Create equation of line to calculate predicted cloudiness\n",
    "tl_fit = tl_slope * north_latitude + tl_int\n",
    "\n",
    "# Create equation in string formats to print on scatter plot\n",
    "nl_equation = \"y = \" + str(round(tl_slope, 2)) + \"x + \" + str(round(tl_int, 2))\n",
    "\n",
    "# Define scatter plot size\n",
    "plt.figure(figsize = (18,10))\n",
    "\n",
    "# Plot x and y values on scatter plot\n",
    "plt.scatter(north_latitude, north_cloudiness)\n",
    "\n",
    "# Plot linear regression line on scatter plot\n",
    "plt.plot(north_latitude, tl_fit, \"--\", color = \"red\")\n",
    "\n",
    "# Define linear regression line and print on scatter plot\n",
    "plt.annotate(nl_equation, (0, 30), fontsize = 14, color = \"red\")\n",
    "\n",
    "# Define scatter plot title, and x and y labels (and their font sizes)\n",
    "plt.title(\"Northern Hemisphere:  Cloudiness vs. Latitude (with linear regression model)\", fontsize = 18)\n",
    "plt.xlabel(\"Latitude\", fontsize = 14)\n",
    "plt.ylabel(\"Cloudiness\", fontsize = 14)\n",
    "print(f\"The r-value is: {tl_r}\")\n",
    "\n",
    "# Print scatter plot to image file\n",
    "plt.savefig(\"../Images/Northern_Hemisphere_Latitude_vs_Cloudiness_Plot.png\")\n",
    "\n",
    "plt.show()"
   ]
  },
  {
   "cell_type": "markdown",
   "metadata": {},
   "source": [
    "####  Southern Hemisphere - Cloudiness (%) vs. Latitude Linear Regression"
   ]
  },
  {
   "cell_type": "code",
   "execution_count": null,
   "metadata": {},
   "outputs": [],
   "source": [
    "# Retrieve latitude and cloudiness data\n",
    "south_latitude = southern_latitudes[\"Lat\"]\n",
    "south_cloudiness = southern_latitudes[\"Cloudiness\"]\n",
    "\n",
    "# Perform a linear regression on latitudes versus cloudiness\n",
    "sl_slope, sl_int, sl_r, sl_p, sl_std_err = st.linregress(south_latitude, south_cloudiness)\n",
    "\n",
    "# Create equation of line to calculate predicted cloudiness\n",
    "sl_fit = sl_slope * south_latitude + sl_int\n",
    "\n",
    "# Create equation in string formats to print on scatter plot\n",
    "sl_equation = \"y = \" + str(round(sl_slope, 2)) + \"x + \" + str(round(sl_int, 2))\n",
    "\n",
    "# Define scatter plot size\n",
    "plt.figure(figsize = (18,10))\n",
    "\n",
    "# Plot x and y values on scatter plot\n",
    "plt.scatter(south_latitude, south_cloudiness)\n",
    "\n",
    "# Plot linear regression line on scatter plot\n",
    "plt.plot(south_latitude, sl_fit, \"--\", color = \"red\")\n",
    "\n",
    "# Define linear regression line and print on scatter plot\n",
    "plt.annotate(sl_equation, (-55, 30), fontsize = 14, color = \"red\")\n",
    "\n",
    "# Define scatter plot title, and x and y labels (and their font sizes)\n",
    "plt.title(\"Southern Hemisphere:  Cloudiness vs. Latitude (with linear regression model)\", fontsize = 18)\n",
    "plt.xlabel(\"Latitude\", fontsize = 14)\n",
    "plt.ylabel(\"Cloudiness\", fontsize = 14)\n",
    "print(f\"The r-value is: {sl_r}\")\n",
    "\n",
    "# Print scatter plot to image file\n",
    "plt.savefig(\"../Images/Southern_Hemisphere_Latitude_vs_Cloudiness_Plot.png\")\n",
    "\n",
    "plt.show()"
   ]
  },
  {
   "cell_type": "markdown",
   "metadata": {},
   "source": [
    "####  Northern Hemisphere - Wind Speed (mph) vs. Latitude Linear Regression"
   ]
  },
  {
   "cell_type": "code",
   "execution_count": null,
   "metadata": {},
   "outputs": [],
   "source": [
    "# Retrieve latitude and wind speed data\n",
    "north_latitude = northern_latitudes[\"Lat\"]\n",
    "north_wind = northern_latitudes[\"Wind Speed\"]\n",
    "\n",
    "# Perform a linear regression on latitudes versus wind speed\n",
    "tl_slope, tl_int, tl_r, tl_p, tl_std_err = st.linregress(north_latitude, north_wind)\n",
    "\n",
    "# Create equation of line to calculate predicted wind speed\n",
    "tl_fit = tl_slope * north_latitude + tl_int\n",
    "\n",
    "# Create equation in string formats to print on scatter plot\n",
    "nl_equation = \"y = \" + str(round(tl_slope, 2)) + \"x + \" + str(round(tl_int, 2))\n",
    "\n",
    "# Define scatter plot size\n",
    "plt.figure(figsize = (18,10))\n",
    "\n",
    "# Plot x and y values on scatter plot\n",
    "plt.scatter(north_latitude, north_wind)\n",
    "\n",
    "# Plot linear regression line on scatter plot\n",
    "plt.plot(north_latitude, tl_fit, \"--\", color = \"red\")\n",
    "\n",
    "# Define linear regression line and print on scatter plot\n",
    "plt.annotate(nl_equation, (0, 30), fontsize = 14, color = \"red\")\n",
    "\n",
    "# Define scatter plot title, and x and y labels (and their font sizes)\n",
    "plt.title(\"Northern Hemisphere:  Wind Speed vs. Latitude (with linear regression model)\", fontsize = 18)\n",
    "plt.xlabel(\"Latitude\", fontsize = 14)\n",
    "plt.ylabel(\"Wind Speed (mph)\", fontsize = 14)\n",
    "print(f\"The r-value is: {tl_r}\")\n",
    "\n",
    "# Print scatter plot to image file\n",
    "plt.savefig(\"../Images/Northern_Hemisphere_Latitude_vs_Windspeed_Plot.png\")\n",
    "\n",
    "plt.show()"
   ]
  },
  {
   "cell_type": "markdown",
   "metadata": {},
   "source": [
    "####  Southern Hemisphere - Wind Speed (mph) vs. Latitude Linear Regression"
   ]
  },
  {
   "cell_type": "code",
   "execution_count": null,
   "metadata": {},
   "outputs": [],
   "source": [
    "# Retrieve latitude and wind speed data\n",
    "south_latitude = southern_latitudes[\"Lat\"]\n",
    "south_wind = southern_latitudes[\"Wind Speed\"]\n",
    "\n",
    "# Perform a linear regression on latitudes versus wind speeds\n",
    "sl_slope, sl_int, sl_r, sl_p, sl_std_err = st.linregress(south_latitude, south_wind)\n",
    "\n",
    "# Create equation of line to calculate predicted wind speeds\n",
    "sl_fit = sl_slope * south_latitude + sl_int\n",
    "\n",
    "# Create equation in string formats to print on scatter plot\n",
    "sl_equation = \"y = \" + str(round(sl_slope, 2)) + \"x + \" + str(round(sl_int, 2))\n",
    "\n",
    "# Define scatter plot size\n",
    "plt.figure(figsize = (18,10))\n",
    "\n",
    "# Plot x and y values on scatter plot\n",
    "plt.scatter(south_latitude, south_wind)\n",
    "\n",
    "# Plot linear regression line on scatter plot\n",
    "plt.plot(south_latitude, sl_fit, \"--\", color = \"red\")\n",
    "\n",
    "# Define linear regression line and print on scatter plot\n",
    "plt.annotate(sl_equation, (-55, 20), fontsize = 14, color = \"red\")\n",
    "\n",
    "# Define scatter plot title, and x and y labels (and their font sizes)\n",
    "plt.title(\"Southern Hemisphere:  Wind Speed vs. Latitude (with linear regression model)\", fontsize = 18)\n",
    "plt.xlabel(\"Latitude\", fontsize = 14)\n",
    "plt.ylabel(\"Wind Speed (mph)\", fontsize = 14)\n",
    "print(f\"The r-value is: {sl_r}\")\n",
    "\n",
    "# Print scatter plot to image file\n",
    "plt.savefig(\"../Images/Southern_Hemisphere_Latitude_vs_Windspeed_Plot.png\")\n",
    "\n",
    "plt.show()"
   ]
  },
  {
   "cell_type": "code",
   "execution_count": null,
   "metadata": {},
   "outputs": [],
   "source": []
  }
 ],
 "metadata": {
  "anaconda-cloud": {},
  "kernel_info": {
   "name": "python3"
  },
  "kernelspec": {
   "display_name": "Python 3",
   "language": "python",
   "name": "python3"
  },
  "language_info": {
   "codemirror_mode": {
    "name": "ipython",
    "version": 3
   },
   "file_extension": ".py",
   "mimetype": "text/x-python",
   "name": "python",
   "nbconvert_exporter": "python",
   "pygments_lexer": "ipython3",
   "version": "3.6.10"
  },
  "latex_envs": {
   "LaTeX_envs_menu_present": true,
   "autoclose": false,
   "autocomplete": true,
   "bibliofile": "biblio.bib",
   "cite_by": "apalike",
   "current_citInitial": 1,
   "eqLabelWithNumbers": true,
   "eqNumInitial": 1,
   "hotkeys": {
    "equation": "Ctrl-E",
    "itemize": "Ctrl-I"
   },
   "labels_anchors": false,
   "latex_user_defs": false,
   "report_style_numbering": false,
   "user_envs_cfg": false
  },
  "nteract": {
   "version": "0.12.3"
  }
 },
 "nbformat": 4,
 "nbformat_minor": 2
}
